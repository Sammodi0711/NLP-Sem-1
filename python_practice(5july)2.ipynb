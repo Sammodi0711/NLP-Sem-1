{
  "nbformat": 4,
  "nbformat_minor": 0,
  "metadata": {
    "colab": {
      "provenance": [],
      "authorship_tag": "ABX9TyOYnoAb375RJDXIKLvFaWld",
      "include_colab_link": true
    },
    "kernelspec": {
      "name": "python3",
      "display_name": "Python 3"
    },
    "language_info": {
      "name": "python"
    }
  },
  "cells": [
    {
      "cell_type": "markdown",
      "metadata": {
        "id": "view-in-github",
        "colab_type": "text"
      },
      "source": [
        "<a href=\"https://colab.research.google.com/github/Sammodi0711/NLP-Sem-1/blob/main/python_practice(5july)2.ipynb\" target=\"_parent\"><img src=\"https://colab.research.google.com/assets/colab-badge.svg\" alt=\"Open In Colab\"/></a>"
      ]
    },
    {
      "cell_type": "code",
      "execution_count": null,
      "metadata": {
        "id": "RE4NViCtGwr_",
        "colab": {
          "base_uri": "https://localhost:8080/"
        },
        "outputId": "958c9d5c-020d-4571-e7a8-c5fc23c18366"
      },
      "outputs": [
        {
          "output_type": "stream",
          "name": "stdout",
          "text": [
            "hello World\n"
          ]
        }
      ],
      "source": [
        "print(\"hello World\")"
      ]
    },
    {
      "cell_type": "code",
      "source": [
        "#variable\n",
        "# creating a variable\n",
        "x=55\n",
        "y='john'\n",
        "print(x)\n",
        "print(y)"
      ],
      "metadata": {
        "colab": {
          "base_uri": "https://localhost:8080/"
        },
        "id": "ly9iDFviInp6",
        "outputId": "512ec293-3a95-45d5-b360-78078713f00f"
      },
      "execution_count": null,
      "outputs": [
        {
          "output_type": "stream",
          "name": "stdout",
          "text": [
            "55\n",
            "john\n"
          ]
        }
      ]
    },
    {
      "cell_type": "code",
      "source": [
        "#types\n",
        "#creating a types\n",
        "x=69\n",
        "y='shivam'\n",
        "print(type(x))\n",
        "print(type(y))"
      ],
      "metadata": {
        "colab": {
          "base_uri": "https://localhost:8080/"
        },
        "id": "Hojv-aSsM98h",
        "outputId": "2317c502-c802-4158-c8ee-27e7cb4d6157"
      },
      "execution_count": null,
      "outputs": [
        {
          "output_type": "stream",
          "name": "stdout",
          "text": [
            "<class 'int'>\n",
            "<class 'str'>\n"
          ]
        }
      ]
    },
    {
      "cell_type": "code",
      "source": [
        "#casting\n",
        "a=str(6)\n",
        "b=int(6)\n",
        "c=float(6)\n",
        "\n",
        "print(a)\n",
        "print(b)\n",
        "print(c)"
      ],
      "metadata": {
        "colab": {
          "base_uri": "https://localhost:8080/"
        },
        "id": "duwTvKAiNZ6V",
        "outputId": "4f393d56-d322-4bff-f89c-9f2f84af3add"
      },
      "execution_count": null,
      "outputs": [
        {
          "output_type": "stream",
          "name": "stdout",
          "text": [
            "6\n",
            "6\n",
            "6.0\n"
          ]
        }
      ]
    },
    {
      "cell_type": "code",
      "source": [
        "# USER INPUT AND PRINT TABLE\n",
        "num=int(input(\"enter the number\"))\n",
        "for i in range(1,11):\n",
        "  print(num*i)"
      ],
      "metadata": {
        "id": "BltvEh60OQ_C",
        "colab": {
          "base_uri": "https://localhost:8080/"
        },
        "outputId": "fa51f50e-696a-431c-c168-09449991f8ad"
      },
      "execution_count": 10,
      "outputs": [
        {
          "output_type": "stream",
          "name": "stdout",
          "text": [
            "enter the number5\n",
            "5\n",
            "10\n",
            "15\n",
            "20\n",
            "25\n",
            "30\n",
            "35\n",
            "40\n",
            "45\n",
            "50\n"
          ]
        }
      ]
    },
    {
      "cell_type": "code",
      "source": [
        "#odd and even number\n",
        "\n",
        "num=int(input(\"enter the number\"))\n",
        "if num%2==0:\n",
        "  print(num,'is even')\n",
        "\n",
        "else:\n",
        "  print(num,'is odd')\n"
      ],
      "metadata": {
        "colab": {
          "base_uri": "https://localhost:8080/"
        },
        "id": "9ErtRrUjVrjj",
        "outputId": "2cc62095-e288-44cd-85c1-94bbce95919e"
      },
      "execution_count": 16,
      "outputs": [
        {
          "output_type": "stream",
          "name": "stdout",
          "text": [
            "enter the number3\n",
            "3 is odd\n"
          ]
        }
      ]
    },
    {
      "cell_type": "code",
      "source": [
        "#factorial of a number\n",
        "num=int(input(\"enter the number: \"))\n",
        "factorial=1\n",
        "\n",
        "for i in range(1,num+1):\n",
        "  factorial=factorial*i\n",
        "print(factorial)\n"
      ],
      "metadata": {
        "colab": {
          "base_uri": "https://localhost:8080/"
        },
        "id": "cvhRCKlXYnq8",
        "outputId": "d09ac4e3-ca8c-45ae-85f0-5de5bdc5258d"
      },
      "execution_count": 18,
      "outputs": [
        {
          "output_type": "stream",
          "name": "stdout",
          "text": [
            "enter the number: 5\n",
            "120\n"
          ]
        }
      ]
    },
    {
      "cell_type": "code",
      "source": [],
      "metadata": {
        "id": "PkaKeFWCaGKj"
      },
      "execution_count": null,
      "outputs": []
    }
  ]
}