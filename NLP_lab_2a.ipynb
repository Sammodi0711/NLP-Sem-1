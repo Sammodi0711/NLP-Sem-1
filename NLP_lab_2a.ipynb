{
  "nbformat": 4,
  "nbformat_minor": 0,
  "metadata": {
    "colab": {
      "provenance": [],
      "authorship_tag": "ABX9TyN/+BQ6CGCqW0UFQWTKX6w+",
      "include_colab_link": true
    },
    "kernelspec": {
      "name": "python3",
      "display_name": "Python 3"
    },
    "language_info": {
      "name": "python"
    }
  },
  "cells": [
    {
      "cell_type": "markdown",
      "metadata": {
        "id": "view-in-github",
        "colab_type": "text"
      },
      "source": [
        "<a href=\"https://colab.research.google.com/github/Sammodi0711/NLP-Sem-1/blob/main/NLP_lab_2a.ipynb\" target=\"_parent\"><img src=\"https://colab.research.google.com/assets/colab-badge.svg\" alt=\"Open In Colab\"/></a>"
      ]
    },
    {
      "cell_type": "code",
      "execution_count": 6,
      "metadata": {
        "colab": {
          "base_uri": "https://localhost:8080/",
          "height": 0
        },
        "id": "5wpj2HL-dgln",
        "outputId": "3cf3ad84-2faf-480b-f351-1a1483ceea97"
      },
      "outputs": [
        {
          "output_type": "stream",
          "name": "stdout",
          "text": [
            "Cleaned Paragraph:\n",
            " omg! i cannot believe i found this awesome article about ai  machine leanring! it was soo good lol. i love nlp butt i hate spelng errors in textt. this is gonna be a loong paragraph with loots of spacess and weirdd symbols . the websites link is ww.example.com check it out asap! excited\n"
          ]
        }
      ],
      "source": [
        "import re\n",
        "text = \"\"\"OMG!! I can't believe I found this aWesoMe article about AI\n",
        "& machine leanring!!\n",
        " It was soooo gooood lol. I <3 nlp butttt i hate spelng errors in\n",
        "textttt.\n",
        " This is gonna be a looong paragraph with looooots of spacesss and\n",
        "weirddddd symbols @#$%.\n",
        " The website's link is www.example.com//// Check it out ASAP!!!\n",
        "#excited\"\"\"\n",
        "text = text.lower()\n",
        "text = re.sub(r\"\\s+\", \" \", text)\n",
        "contractions = {\n",
        "    r\"\\bi can't\\b\": \"i cannot\",\n",
        "    r\"\\bi'm\\b\": \"i am\",\n",
        "    r\"\\bi've\\b\": \"i have\",\n",
        "    r\"\\bi <3\\b\": \"i love\",\n",
        "    r\"\\bu're\\b\": \"you are\",\n",
        "    r\"\\bu\\b\": \"you\",\n",
        "    r\"\\bwuz\\b\": \"was\",\n",
        "    r\"\\bcuz\\b\": \"because\"\n",
        " }\n",
        "for pattern, replacement in contractions.items():\n",
        "    text = re.sub(pattern, replacement, text)\n",
        "text = re.sub(r\"[^a-zA-Z0-9\\s.,!?]\", \"\", text)\n",
        "text = re.sub(r\"(.)\\1{2,}\", r\"\\1\\1\", text)\n",
        "text = re.sub(r\"([!?.,])\\1+\", r\"\\1\", text)\n",
        "text = re.sub(r\"(https?://\\S+|www\\.\\S+)//+\", r\"\\1\", text)\n",
        "print(\"Cleaned Paragraph:\\n\", text)"
      ]
    },
    {
      "cell_type": "code",
      "source": [],
      "metadata": {
        "id": "ddrg123jBdfZ"
      },
      "execution_count": null,
      "outputs": []
    }
  ]
}