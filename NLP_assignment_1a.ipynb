{
  "nbformat": 4,
  "nbformat_minor": 0,
  "metadata": {
    "colab": {
      "provenance": [],
      "authorship_tag": "ABX9TyPks+y/J+7prXtOBnyYz7aw",
      "include_colab_link": true
    },
    "kernelspec": {
      "name": "python3",
      "display_name": "Python 3"
    },
    "language_info": {
      "name": "python"
    }
  },
  "cells": [
    {
      "cell_type": "markdown",
      "metadata": {
        "id": "view-in-github",
        "colab_type": "text"
      },
      "source": [
        "<a href=\"https://colab.research.google.com/github/Sammodi0711/NLP-Sem-1/blob/main/NLP_assignment_1a.ipynb\" target=\"_parent\"><img src=\"https://colab.research.google.com/assets/colab-badge.svg\" alt=\"Open In Colab\"/></a>"
      ]
    },
    {
      "cell_type": "code",
      "execution_count": 33,
      "metadata": {
        "colab": {
          "base_uri": "https://localhost:8080/"
        },
        "id": "pV5SdIXOEXoZ",
        "outputId": "de33e1cd-9f61-4d92-93b8-bea02e053f2d"
      },
      "outputs": [
        {
          "output_type": "stream",
          "name": "stdout",
          "text": [
            "URL found: https://www.xy123z.com/\n"
          ]
        }
      ],
      "source": [
        "# 1.\tTo find a URL in a sentence:\n",
        "# a.\texample=\"I love spending time at https://www.xy123z.com/\"\n",
        "\n",
        "\n",
        "import re\n",
        "\n",
        "example = \"I love spending time at https://www.xy123z.com/\"\n",
        "\n",
        "pattern = r'https?://\\S+'\n",
        "match = re.search(pattern, example)\n",
        "\n",
        "if match:\n",
        "    print(\"URL found:\", match.group())\n",
        "else:\n",
        "    print(\"No URL found.\")\n"
      ]
    },
    {
      "cell_type": "code",
      "source": [
        "# 2.\tGet email id from the sentence:\n",
        "# a.\tExample=\"My email id is xyz111@gmail.com\"\n",
        "\n",
        "example = \"My email id is xyz111@gmail.com\"\n",
        "\n",
        "pattern = r'[a-zA-Z0-9._%+-]+@[a-zA-Z0-9.-]+\\.[a-zA-Z]{2,}'\n",
        "match = re.search(pattern, example)\n",
        "\n",
        "if match:\n",
        "    print(\"email found:\", match.group())\n",
        "else:\n",
        "    print(\"NO email found.\")"
      ],
      "metadata": {
        "colab": {
          "base_uri": "https://localhost:8080/"
        },
        "id": "hVqYzF1cFdmb",
        "outputId": "ca60d554-69f8-4bdf-9e70-d80c89fc772e"
      },
      "execution_count": 34,
      "outputs": [
        {
          "output_type": "stream",
          "name": "stdout",
          "text": [
            "email found: xyz111@gmail.com\n"
          ]
        }
      ]
    },
    {
      "cell_type": "code",
      "source": [
        "# 3.\tTo find the hashtags:\n",
        "#a.\t#sushant is trending now in the world.\n",
        "\n",
        "example = \"#sushnat is trending now in the world.\"\n",
        "\n",
        "pattern = r'#\\w+'\n",
        "hashtags= re.findall(pattern, example)\n",
        "\n",
        "if hashtags:\n",
        "   print(\"hashtags found:\", match)\n",
        "\n",
        "else:\n",
        "  print(\"NO hashtags found\")"
      ],
      "metadata": {
        "colab": {
          "base_uri": "https://localhost:8080/"
        },
        "id": "O-lkZbdJHcIX",
        "outputId": "8fe147b3-609b-45cc-a98f-7f31f67badec"
      },
      "execution_count": 35,
      "outputs": [
        {
          "output_type": "stream",
          "name": "stdout",
          "text": [
            "hashtags found: <re.Match object; span=(15, 31), match='xyz111@gmail.com'>\n"
          ]
        }
      ]
    },
    {
      "cell_type": "code",
      "source": [
        "# 4.\tTo find the mentions in a sentence: @ – This symbol is used to mention someone in tweets. So, to extract words associated with @ symbol use this code:\n",
        "# a.\texample=\"@Ajit, please help me\"\n",
        "\n",
        "example = \"@Ajit, please help me\"\n",
        "\n",
        "pattern = r'@\\w+'\n",
        "mention = re.findall(pattern, example)\n",
        "\n",
        "if mention:\n",
        "  print(\"mention found:\", mention)\n",
        "\n",
        "else:\n",
        "  print(\"No mention found\")"
      ],
      "metadata": {
        "colab": {
          "base_uri": "https://localhost:8080/"
        },
        "id": "TECEav3JLU5l",
        "outputId": "410a4a9f-f22e-4b06-8ca0-d823eec9d19c"
      },
      "execution_count": 36,
      "outputs": [
        {
          "output_type": "stream",
          "name": "stdout",
          "text": [
            "mention found: ['@Ajit']\n"
          ]
        }
      ]
    },
    {
      "cell_type": "code",
      "source": [
        "# 5.\tTo find numbers in a sentence:\n",
        "# a.\texample=\"8853147 sq. km of area washed away in floods\"\n",
        "\n",
        "example = \"8853147 sq. km of area washed away in floods\"\n",
        "\n",
        "pattern = r'\\d+'\n",
        "numbers = re.findall(pattern, example)\n",
        "\n",
        "if numbers:\n",
        "  print(\"Number found\",numbers)\n",
        "\n",
        "else:\n",
        "  print(\"No number found\")"
      ],
      "metadata": {
        "colab": {
          "base_uri": "https://localhost:8080/"
        },
        "id": "XiAHcrzCM7mP",
        "outputId": "2cd6c228-7783-4971-934b-8e1de03acdca"
      },
      "execution_count": 37,
      "outputs": [
        {
          "output_type": "stream",
          "name": "stdout",
          "text": [
            "Number found ['8853147']\n"
          ]
        }
      ]
    },
    {
      "cell_type": "code",
      "source": [
        "# 6.\tTo find punctuations in a sentence:\n",
        "# a.\texample=\"Corona virus killed #24506 people. #Corona is un(tolerable)\"\n",
        "\n",
        "example = \"Corons virus killed #24506 people. #corona is un(tolerable)\"\n",
        "\n",
        "patter = r'[^\\w\\s]'\n",
        "punctuations = re.findall(patter, example)\n",
        "\n",
        "if punctuations:\n",
        "  print(\"Punctuations found:\", punctuations)\n",
        "\n",
        "else:\n",
        "  print(\"No punctuations found\")"
      ],
      "metadata": {
        "colab": {
          "base_uri": "https://localhost:8080/"
        },
        "id": "KZCZQMRxOIqD",
        "outputId": "b3fc3e4f-11f4-49aa-e667-75b77b5876f0"
      },
      "execution_count": 38,
      "outputs": [
        {
          "output_type": "stream",
          "name": "stdout",
          "text": [
            "Punctuations found: ['#', '.', '#', '(', ')']\n"
          ]
        }
      ]
    },
    {
      "cell_type": "code",
      "source": [
        "# 7.\tTo Validate PAN Number use the below code: Format: First 5 letters in CAPS+4 digits+Last letter in CAPS\n",
        "# a.\tExample1: \"ABCED3193P\"\n",
        "# b.\tExample2: \"lEcGD012eg\"\n",
        "\n",
        "Example1 = \"ABCED3193P\"\n",
        "Example2 = \"lEcGD012eg\"\n",
        "\n",
        "pattern = r'^[A-Z]{5}[0-9]{4}[A-Z]$'\n",
        "\n",
        "for pan in [Example1, Example2]:\n",
        "  if re.match(pattern, pan):\n",
        "    print(f\"{pan} is a valid PAN number\")\n",
        "\n",
        "else:\n",
        "  print(f\"{pan} is not a valid PAN\")"
      ],
      "metadata": {
        "colab": {
          "base_uri": "https://localhost:8080/"
        },
        "id": "hFDuQ7KaQRZs",
        "outputId": "0719153d-c86b-4d9b-bd8b-59246dbee39f"
      },
      "execution_count": 39,
      "outputs": [
        {
          "output_type": "stream",
          "name": "stdout",
          "text": [
            "ABCED3193P is a valid PAN number\n",
            "lEcGD012eg is not a valid PAN\n"
          ]
        }
      ]
    },
    {
      "cell_type": "code",
      "source": [
        "# 8.\tRemove repetitive characters from sentence:\n",
        "# a.\texample=\"heyyy this is a verrrry loong texttt\"\n",
        "\n",
        "example =\"heyyy this is a verrrry loong texttt\"\n",
        "\n",
        "pattern = r'(.)\\1+'\n",
        "\n",
        "result = re.sub(pattern, r'\\1',example)\n",
        "\n",
        "print(\"original:\",example)\n",
        "print(\"cleaned:\",result)"
      ],
      "metadata": {
        "colab": {
          "base_uri": "https://localhost:8080/"
        },
        "id": "cPrsI8qtRlws",
        "outputId": "fa19cc84-16b8-423c-860b-2539914f0846"
      },
      "execution_count": 40,
      "outputs": [
        {
          "output_type": "stream",
          "name": "stdout",
          "text": [
            "original: heyyy this is a verrrry loong texttt\n",
            "cleaned: hey this is a very long text\n"
          ]
        }
      ]
    },
    {
      "cell_type": "code",
      "source": [
        "# 9.\tTo find Indian mobile numbers:\n",
        "# a.\tExample= \"9990001796 is a phone number of PMO office\"\n",
        "\n",
        "example = \"9990001796 is a phone number of PMO office\"\n",
        "\n",
        "pattern = r'\\b[6-9]\\d{9}\\b'\n",
        "numbers = re.findall(pattern, example)\n",
        "\n",
        "if numbers:\n",
        "    print(\"Indian mobile numbers found:\", numbers)\n",
        "else:\n",
        "    print(\"No Indian mobile numbers found.\")\n"
      ],
      "metadata": {
        "colab": {
          "base_uri": "https://localhost:8080/"
        },
        "id": "Dc8Rxe1ASuPQ",
        "outputId": "19c037ac-f63c-4ce5-d701-7cf510a1f624"
      },
      "execution_count": 43,
      "outputs": [
        {
          "output_type": "stream",
          "name": "stdout",
          "text": [
            "Indian mobile numbers found: ['9990001796']\n"
          ]
        }
      ]
    },
    {
      "cell_type": "code",
      "source": [
        "# 10.\tExtract words starting with a capital letter from the input text.\n",
        "# a.\texample=\"Ajit Doval is the best National Security Advisor so far.\"\n",
        "\n",
        "\n",
        "example = \"Ajit Doval is the best National Security Advisor so far.\"\n",
        "\n",
        "pattern = r'\\b[A-Z][a-zA-B]*\\b'\n",
        "\n",
        "words = re.findall(pattern, example)\n",
        "\n",
        "if words:\n",
        "    print(\"Words starting with a capital letter:\", words)\n",
        "\n",
        "else:\n",
        "  print(\"No words starting with a capital letter found.\")"
      ],
      "metadata": {
        "colab": {
          "base_uri": "https://localhost:8080/"
        },
        "id": "AXVMUFINU21Z",
        "outputId": "9801794d-68df-4d0a-8ec5-46a27998c05b"
      },
      "execution_count": 46,
      "outputs": [
        {
          "output_type": "stream",
          "name": "stdout",
          "text": [
            "Words starting with a capital letter: ['Ajit', 'Doval', 'National', 'Security', 'Advisor']\n"
          ]
        }
      ]
    }
  ]
}